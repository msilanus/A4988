{
  "nbformat": 4,
  "nbformat_minor": 0,
  "metadata": {
    "colab": {
      "name": "devoir_terminale_nsi_recursive.ipynb",
      "provenance": [],
      "authorship_tag": "ABX9TyPxrFCXVvQOeaeIV+Ur5qn1",
      "include_colab_link": true
    },
    "kernelspec": {
      "name": "python3",
      "display_name": "Python 3"
    }
  },
  "cells": [
    {
      "cell_type": "markdown",
      "metadata": {
        "id": "view-in-github",
        "colab_type": "text"
      },
      "source": [
        "<a href=\"https://colab.research.google.com/github/msilanus/A4988/blob/master/devoir_terminale_nsi_recursive.ipynb\" target=\"_parent\"><img src=\"https://colab.research.google.com/assets/colab-badge.svg\" alt=\"Open In Colab\"/></a>"
      ]
    },
    {
      "cell_type": "markdown",
      "metadata": {
        "id": "nkoYXF79112c",
        "colab_type": "text"
      },
      "source": [
        "# Devoir NSI - Récursivité\n",
        "\n",
        "## Conversion d'un nombre entier positif en nombre binaire\n",
        "\n",
        "### Définition\n",
        "\n",
        "La conversion d'un nombre entier positif en nombre binaire consiste en des divisions successives par 2 jusqu'à ce qu'un **0 soit obtenu comme quotient avec un reste de 1**. \n",
        "\n",
        "La méthode débute par la division du nombre par 2, le reste est reporté comme le bit du poids le plus faible (bit de rang 0). \n",
        "\n",
        "Le quotient de cette division est, lui aussi, divisé par 2. Le deuxième reste représente alors le bit de rang 1. \n",
        "\n",
        "Cette procédure est reprise de la même manière jusqu'à ce que le quotient obtenu soit 0 avec un reste de 1. L'exemple de la figure ci-dessous présente la conversion du nombre décimal 97 en nombre binaire.\n",
        "\n",
        "\n",
        "\n",
        "![cdb_97.gif](data:image/gif;base64,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)\n",
        "\n",
        "### Opérateurs\n",
        "\n",
        "#### Division entière\n",
        "\n",
        "Calculez ci-dessous la division entière de 97 par 2"
      ]
    },
    {
      "cell_type": "code",
      "metadata": {
        "id": "StXPdZPv1vcq",
        "colab_type": "code",
        "colab": {
          "base_uri": "https://localhost:8080/",
          "height": 34
        },
        "outputId": "93bdec95-fb58-47da-a17c-30e690df4d00"
      },
      "source": [
        "97 ?? 2\n"
      ],
      "execution_count": 1,
      "outputs": [
        {
          "output_type": "execute_result",
          "data": {
            "text/plain": [
              "48"
            ]
          },
          "metadata": {
            "tags": []
          },
          "execution_count": 1
        }
      ]
    },
    {
      "cell_type": "markdown",
      "metadata": {
        "id": "ZxIx3fSz1zvL",
        "colab_type": "text"
      },
      "source": [
        "#### Reste de la division entière\n",
        "\n",
        "Calculez ci-dessous le reste de la division entière de 97 par 2"
      ]
    },
    {
      "cell_type": "code",
      "metadata": {
        "id": "FlMWvuuB4SFG",
        "colab_type": "code",
        "colab": {
          "base_uri": "https://localhost:8080/",
          "height": 34
        },
        "outputId": "10e3ae7a-431b-4a22-8518-cfc5aa615978"
      },
      "source": [
        "97 % 2"
      ],
      "execution_count": 2,
      "outputs": [
        {
          "output_type": "execute_result",
          "data": {
            "text/plain": [
              "1"
            ]
          },
          "metadata": {
            "tags": []
          },
          "execution_count": 2
        }
      ]
    },
    {
      "cell_type": "markdown",
      "metadata": {
        "id": "Nh-rsVtR8AAk",
        "colab_type": "text"
      },
      "source": [
        "### Conversion à la main\n",
        "\n",
        "Convertir 75 par la méthode des division successives par 2"
      ]
    },
    {
      "cell_type": "code",
      "metadata": {
        "id": "HqaSoMuU8R1w",
        "colab_type": "code",
        "colab": {
          "base_uri": "https://localhost:8080/",
          "height": 156
        },
        "outputId": "1f915dc6-74ae-46b1-b667-173bcbec57ca"
      },
      "source": [
        "print(\"75 :\")\n",
        "\n",
        "r = 75 ? 2\n",
        "q = 75 ?? 2\n",
        "print(q, \" reste \", r)\n",
        "\n",
        "r = q ? 2\n",
        "q = q ?? 2\n",
        "print(q, \" reste \", r)\n",
        "\n",
        "..."
      ],
      "execution_count": 19,
      "outputs": [
        {
          "output_type": "stream",
          "text": [
            "75 :\n",
            "37  reste  1\n",
            "18  reste  1\n",
            "9  reste  0\n",
            "4  reste  1\n",
            "2  reste  0\n",
            "1  reste  0\n",
            "0  reste  1\n"
          ],
          "name": "stdout"
        }
      ]
    },
    {
      "cell_type": "markdown",
      "metadata": {
        "id": "b_i8isN-AJVX",
        "colab_type": "text"
      },
      "source": [
        "### Domaine d'application\n",
        "\n",
        "On ne converti que des entiers positifs. \n",
        "\n",
        "Compéter le code de la fonction `decimal_2_binary()` pour assurer le contrôle du domaine d'application :\n",
        "\n",
        "\n",
        "\n",
        "*   le paramètre `d` n'est pas un entier : `isinstance(obj, class)` => retourne : **\"d n'est pas un entier\"**\n",
        "*   le paramètre `d` est positif ou nul => retourne **\"d doit être un entier positif ou nul\"**\n",
        "\n"
      ]
    },
    {
      "cell_type": "code",
      "metadata": {
        "id": "Sn57F9XLBb5F",
        "colab_type": "code",
        "colab": {
          "base_uri": "https://localhost:8080/",
          "height": 52
        },
        "outputId": "3d980720-16e2-4d1e-8898-70145d1ba5f5"
      },
      "source": [
        "def decimal_2_binary(d, b=\"\"):\n",
        "  '''Convert number d who is a positive integer in string b who is its binary representation'''\n",
        "  \n",
        "  # Le paramètre d n'est pas un entier \n",
        "  # Ecrire votre code ici\n",
        "\n",
        "  # Le paramètre d est positif ou nul\n",
        "  # Ecrire votre code ici\n",
        "\n",
        "print(\"75.0 : \", decimal_2_binary(75.0))\n",
        "print(\"-75  : \", decimal_2_binary(-75))"
      ],
      "execution_count": 27,
      "outputs": [
        {
          "output_type": "stream",
          "text": [
            "75.0 :  d n'est pas un entier\n",
            "-75  :  d doit être un entier positif ou nul\n"
          ],
          "name": "stdout"
        }
      ]
    },
    {
      "cell_type": "markdown",
      "metadata": {
        "id": "SjCv0pdq4c53",
        "colab_type": "text"
      },
      "source": [
        "### Cas d'arrêt de la fonction\n",
        "\n",
        "**Le quotient de la division entière est 0**, ce qui revient à dire que le nombre à convertir est égal à `0` : \n",
        "\n",
        "la fonction retourne la représentation binaire `b` si elle n'est pas vide (`\"\"`), sinon, elle retourne `0`"
      ]
    },
    {
      "cell_type": "code",
      "metadata": {
        "id": "n-iFT_WR48YX",
        "colab_type": "code",
        "colab": {
          "base_uri": "https://localhost:8080/",
          "height": 348
        },
        "outputId": "c00b19aa-863d-4953-a1e3-f87b772c0d98"
      },
      "source": [
        "def decimal_2_binary(d, b=\"\"):\n",
        "  '''Convert number d who is a positive integer in string b who is its binary representation'''\n",
        "\n",
        "  # Le paramètre d n'est pas un entier \n",
        "  # Ecrire votre code ici\n",
        "\n",
        "  # Le paramètre d est positif ou nul\n",
        "  # Ecrire votre code ici\n",
        "\n",
        "  # si le nombre à convertir est égal à 0:\n",
        "    ???\n",
        "\n",
        "    # si b est une chaine vide: b=0\n",
        "    ???\n",
        "\n",
        "    return ?\n",
        "  \n",
        "  return decimal_2_binary(d//2, str(d%2)+b)\n",
        "\n",
        "print(decimal_2_binary(0))\n"
      ],
      "execution_count": 32,
      "outputs": [
        {
          "output_type": "error",
          "ename": "UnboundLocalError",
          "evalue": "ignored",
          "traceback": [
            "\u001b[0;31m---------------------------------------------------------------------------\u001b[0m",
            "\u001b[0;31mUnboundLocalError\u001b[0m                         Traceback (most recent call last)",
            "\u001b[0;32m<ipython-input-32-262079071195>\u001b[0m in \u001b[0;36m<module>\u001b[0;34m()\u001b[0m\n\u001b[1;32m      9\u001b[0m   \u001b[0;32mreturn\u001b[0m \u001b[0mstr\u001b[0m\u001b[0;34m(\u001b[0m\u001b[0md\u001b[0m\u001b[0;34m%\u001b[0m\u001b[0;36m2\u001b[0m\u001b[0;34m)\u001b[0m \u001b[0;34m+\u001b[0m \u001b[0mstr\u001b[0m\u001b[0;34m(\u001b[0m\u001b[0mdecimal_2_binary\u001b[0m\u001b[0;34m(\u001b[0m\u001b[0md\u001b[0m\u001b[0;34m//\u001b[0m\u001b[0;36m2\u001b[0m\u001b[0;34m)\u001b[0m\u001b[0;34m)\u001b[0m\u001b[0;34m\u001b[0m\u001b[0;34m\u001b[0m\u001b[0m\n\u001b[1;32m     10\u001b[0m \u001b[0;34m\u001b[0m\u001b[0m\n\u001b[0;32m---> 11\u001b[0;31m \u001b[0mprint\u001b[0m\u001b[0;34m(\u001b[0m\u001b[0mdecimal_2_binary\u001b[0m\u001b[0;34m(\u001b[0m\u001b[0;36m75\u001b[0m\u001b[0;34m)\u001b[0m\u001b[0;34m)\u001b[0m\u001b[0;34m\u001b[0m\u001b[0;34m\u001b[0m\u001b[0m\n\u001b[0m",
            "\u001b[0;32m<ipython-input-32-262079071195>\u001b[0m in \u001b[0;36mdecimal_2_binary\u001b[0;34m(d)\u001b[0m\n\u001b[1;32m      7\u001b[0m \u001b[0;34m\u001b[0m\u001b[0m\n\u001b[1;32m      8\u001b[0m \u001b[0;34m\u001b[0m\u001b[0m\n\u001b[0;32m----> 9\u001b[0;31m   \u001b[0;32mreturn\u001b[0m \u001b[0mstr\u001b[0m\u001b[0;34m(\u001b[0m\u001b[0md\u001b[0m\u001b[0;34m%\u001b[0m\u001b[0;36m2\u001b[0m\u001b[0;34m)\u001b[0m \u001b[0;34m+\u001b[0m \u001b[0mstr\u001b[0m\u001b[0;34m(\u001b[0m\u001b[0mdecimal_2_binary\u001b[0m\u001b[0;34m(\u001b[0m\u001b[0md\u001b[0m\u001b[0;34m//\u001b[0m\u001b[0;36m2\u001b[0m\u001b[0;34m)\u001b[0m\u001b[0;34m)\u001b[0m\u001b[0;34m\u001b[0m\u001b[0;34m\u001b[0m\u001b[0m\n\u001b[0m\u001b[1;32m     10\u001b[0m \u001b[0;34m\u001b[0m\u001b[0m\n\u001b[1;32m     11\u001b[0m \u001b[0mprint\u001b[0m\u001b[0;34m(\u001b[0m\u001b[0mdecimal_2_binary\u001b[0m\u001b[0;34m(\u001b[0m\u001b[0;36m75\u001b[0m\u001b[0;34m)\u001b[0m\u001b[0;34m)\u001b[0m\u001b[0;34m\u001b[0m\u001b[0;34m\u001b[0m\u001b[0m\n",
            "\u001b[0;32m<ipython-input-32-262079071195>\u001b[0m in \u001b[0;36mdecimal_2_binary\u001b[0;34m(d)\u001b[0m\n\u001b[1;32m      7\u001b[0m \u001b[0;34m\u001b[0m\u001b[0m\n\u001b[1;32m      8\u001b[0m \u001b[0;34m\u001b[0m\u001b[0m\n\u001b[0;32m----> 9\u001b[0;31m   \u001b[0;32mreturn\u001b[0m \u001b[0mstr\u001b[0m\u001b[0;34m(\u001b[0m\u001b[0md\u001b[0m\u001b[0;34m%\u001b[0m\u001b[0;36m2\u001b[0m\u001b[0;34m)\u001b[0m \u001b[0;34m+\u001b[0m \u001b[0mstr\u001b[0m\u001b[0;34m(\u001b[0m\u001b[0mdecimal_2_binary\u001b[0m\u001b[0;34m(\u001b[0m\u001b[0md\u001b[0m\u001b[0;34m//\u001b[0m\u001b[0;36m2\u001b[0m\u001b[0;34m)\u001b[0m\u001b[0;34m)\u001b[0m\u001b[0;34m\u001b[0m\u001b[0;34m\u001b[0m\u001b[0m\n\u001b[0m\u001b[1;32m     10\u001b[0m \u001b[0;34m\u001b[0m\u001b[0m\n\u001b[1;32m     11\u001b[0m \u001b[0mprint\u001b[0m\u001b[0;34m(\u001b[0m\u001b[0mdecimal_2_binary\u001b[0m\u001b[0;34m(\u001b[0m\u001b[0;36m75\u001b[0m\u001b[0;34m)\u001b[0m\u001b[0;34m)\u001b[0m\u001b[0;34m\u001b[0m\u001b[0;34m\u001b[0m\u001b[0m\n",
            "\u001b[0;32m<ipython-input-32-262079071195>\u001b[0m in \u001b[0;36mdecimal_2_binary\u001b[0;34m(d)\u001b[0m\n\u001b[1;32m      7\u001b[0m \u001b[0;34m\u001b[0m\u001b[0m\n\u001b[1;32m      8\u001b[0m \u001b[0;34m\u001b[0m\u001b[0m\n\u001b[0;32m----> 9\u001b[0;31m   \u001b[0;32mreturn\u001b[0m \u001b[0mstr\u001b[0m\u001b[0;34m(\u001b[0m\u001b[0md\u001b[0m\u001b[0;34m%\u001b[0m\u001b[0;36m2\u001b[0m\u001b[0;34m)\u001b[0m \u001b[0;34m+\u001b[0m \u001b[0mstr\u001b[0m\u001b[0;34m(\u001b[0m\u001b[0mdecimal_2_binary\u001b[0m\u001b[0;34m(\u001b[0m\u001b[0md\u001b[0m\u001b[0;34m//\u001b[0m\u001b[0;36m2\u001b[0m\u001b[0;34m)\u001b[0m\u001b[0;34m)\u001b[0m\u001b[0;34m\u001b[0m\u001b[0;34m\u001b[0m\u001b[0m\n\u001b[0m\u001b[1;32m     10\u001b[0m \u001b[0;34m\u001b[0m\u001b[0m\n\u001b[1;32m     11\u001b[0m \u001b[0mprint\u001b[0m\u001b[0;34m(\u001b[0m\u001b[0mdecimal_2_binary\u001b[0m\u001b[0;34m(\u001b[0m\u001b[0;36m75\u001b[0m\u001b[0;34m)\u001b[0m\u001b[0;34m)\u001b[0m\u001b[0;34m\u001b[0m\u001b[0;34m\u001b[0m\u001b[0m\n",
            "\u001b[0;32m<ipython-input-32-262079071195>\u001b[0m in \u001b[0;36mdecimal_2_binary\u001b[0;34m(d)\u001b[0m\n\u001b[1;32m      7\u001b[0m \u001b[0;34m\u001b[0m\u001b[0m\n\u001b[1;32m      8\u001b[0m \u001b[0;34m\u001b[0m\u001b[0m\n\u001b[0;32m----> 9\u001b[0;31m   \u001b[0;32mreturn\u001b[0m \u001b[0mstr\u001b[0m\u001b[0;34m(\u001b[0m\u001b[0md\u001b[0m\u001b[0;34m%\u001b[0m\u001b[0;36m2\u001b[0m\u001b[0;34m)\u001b[0m \u001b[0;34m+\u001b[0m \u001b[0mstr\u001b[0m\u001b[0;34m(\u001b[0m\u001b[0mdecimal_2_binary\u001b[0m\u001b[0;34m(\u001b[0m\u001b[0md\u001b[0m\u001b[0;34m//\u001b[0m\u001b[0;36m2\u001b[0m\u001b[0;34m)\u001b[0m\u001b[0;34m)\u001b[0m\u001b[0;34m\u001b[0m\u001b[0;34m\u001b[0m\u001b[0m\n\u001b[0m\u001b[1;32m     10\u001b[0m \u001b[0;34m\u001b[0m\u001b[0m\n\u001b[1;32m     11\u001b[0m \u001b[0mprint\u001b[0m\u001b[0;34m(\u001b[0m\u001b[0mdecimal_2_binary\u001b[0m\u001b[0;34m(\u001b[0m\u001b[0;36m75\u001b[0m\u001b[0;34m)\u001b[0m\u001b[0;34m)\u001b[0m\u001b[0;34m\u001b[0m\u001b[0;34m\u001b[0m\u001b[0m\n",
            "\u001b[0;32m<ipython-input-32-262079071195>\u001b[0m in \u001b[0;36mdecimal_2_binary\u001b[0;34m(d)\u001b[0m\n\u001b[1;32m      7\u001b[0m \u001b[0;34m\u001b[0m\u001b[0m\n\u001b[1;32m      8\u001b[0m \u001b[0;34m\u001b[0m\u001b[0m\n\u001b[0;32m----> 9\u001b[0;31m   \u001b[0;32mreturn\u001b[0m \u001b[0mstr\u001b[0m\u001b[0;34m(\u001b[0m\u001b[0md\u001b[0m\u001b[0;34m%\u001b[0m\u001b[0;36m2\u001b[0m\u001b[0;34m)\u001b[0m \u001b[0;34m+\u001b[0m \u001b[0mstr\u001b[0m\u001b[0;34m(\u001b[0m\u001b[0mdecimal_2_binary\u001b[0m\u001b[0;34m(\u001b[0m\u001b[0md\u001b[0m\u001b[0;34m//\u001b[0m\u001b[0;36m2\u001b[0m\u001b[0;34m)\u001b[0m\u001b[0;34m)\u001b[0m\u001b[0;34m\u001b[0m\u001b[0;34m\u001b[0m\u001b[0m\n\u001b[0m\u001b[1;32m     10\u001b[0m \u001b[0;34m\u001b[0m\u001b[0m\n\u001b[1;32m     11\u001b[0m \u001b[0mprint\u001b[0m\u001b[0;34m(\u001b[0m\u001b[0mdecimal_2_binary\u001b[0m\u001b[0;34m(\u001b[0m\u001b[0;36m75\u001b[0m\u001b[0;34m)\u001b[0m\u001b[0;34m)\u001b[0m\u001b[0;34m\u001b[0m\u001b[0;34m\u001b[0m\u001b[0m\n",
            "\u001b[0;32m<ipython-input-32-262079071195>\u001b[0m in \u001b[0;36mdecimal_2_binary\u001b[0;34m(d)\u001b[0m\n\u001b[1;32m      7\u001b[0m \u001b[0;34m\u001b[0m\u001b[0m\n\u001b[1;32m      8\u001b[0m \u001b[0;34m\u001b[0m\u001b[0m\n\u001b[0;32m----> 9\u001b[0;31m   \u001b[0;32mreturn\u001b[0m \u001b[0mstr\u001b[0m\u001b[0;34m(\u001b[0m\u001b[0md\u001b[0m\u001b[0;34m%\u001b[0m\u001b[0;36m2\u001b[0m\u001b[0;34m)\u001b[0m \u001b[0;34m+\u001b[0m \u001b[0mstr\u001b[0m\u001b[0;34m(\u001b[0m\u001b[0mdecimal_2_binary\u001b[0m\u001b[0;34m(\u001b[0m\u001b[0md\u001b[0m\u001b[0;34m//\u001b[0m\u001b[0;36m2\u001b[0m\u001b[0;34m)\u001b[0m\u001b[0;34m)\u001b[0m\u001b[0;34m\u001b[0m\u001b[0;34m\u001b[0m\u001b[0m\n\u001b[0m\u001b[1;32m     10\u001b[0m \u001b[0;34m\u001b[0m\u001b[0m\n\u001b[1;32m     11\u001b[0m \u001b[0mprint\u001b[0m\u001b[0;34m(\u001b[0m\u001b[0mdecimal_2_binary\u001b[0m\u001b[0;34m(\u001b[0m\u001b[0;36m75\u001b[0m\u001b[0;34m)\u001b[0m\u001b[0;34m)\u001b[0m\u001b[0;34m\u001b[0m\u001b[0;34m\u001b[0m\u001b[0m\n",
            "\u001b[0;32m<ipython-input-32-262079071195>\u001b[0m in \u001b[0;36mdecimal_2_binary\u001b[0;34m(d)\u001b[0m\n\u001b[1;32m      7\u001b[0m \u001b[0;34m\u001b[0m\u001b[0m\n\u001b[1;32m      8\u001b[0m \u001b[0;34m\u001b[0m\u001b[0m\n\u001b[0;32m----> 9\u001b[0;31m   \u001b[0;32mreturn\u001b[0m \u001b[0mstr\u001b[0m\u001b[0;34m(\u001b[0m\u001b[0md\u001b[0m\u001b[0;34m%\u001b[0m\u001b[0;36m2\u001b[0m\u001b[0;34m)\u001b[0m \u001b[0;34m+\u001b[0m \u001b[0mstr\u001b[0m\u001b[0;34m(\u001b[0m\u001b[0mdecimal_2_binary\u001b[0m\u001b[0;34m(\u001b[0m\u001b[0md\u001b[0m\u001b[0;34m//\u001b[0m\u001b[0;36m2\u001b[0m\u001b[0;34m)\u001b[0m\u001b[0;34m)\u001b[0m\u001b[0;34m\u001b[0m\u001b[0;34m\u001b[0m\u001b[0m\n\u001b[0m\u001b[1;32m     10\u001b[0m \u001b[0;34m\u001b[0m\u001b[0m\n\u001b[1;32m     11\u001b[0m \u001b[0mprint\u001b[0m\u001b[0;34m(\u001b[0m\u001b[0mdecimal_2_binary\u001b[0m\u001b[0;34m(\u001b[0m\u001b[0;36m75\u001b[0m\u001b[0;34m)\u001b[0m\u001b[0;34m)\u001b[0m\u001b[0;34m\u001b[0m\u001b[0;34m\u001b[0m\u001b[0m\n",
            "\u001b[0;32m<ipython-input-32-262079071195>\u001b[0m in \u001b[0;36mdecimal_2_binary\u001b[0;34m(d)\u001b[0m\n\u001b[1;32m      2\u001b[0m   \u001b[0;34m'''Convert number d who is a positive integer in string b who is its binary representation'''\u001b[0m\u001b[0;34m\u001b[0m\u001b[0;34m\u001b[0m\u001b[0m\n\u001b[1;32m      3\u001b[0m   \u001b[0;32mif\u001b[0m \u001b[0md\u001b[0m\u001b[0;34m==\u001b[0m\u001b[0;36m0\u001b[0m\u001b[0;34m:\u001b[0m\u001b[0;34m\u001b[0m\u001b[0;34m\u001b[0m\u001b[0m\n\u001b[0;32m----> 4\u001b[0;31m     \u001b[0;32mif\u001b[0m \u001b[0mb\u001b[0m\u001b[0;34m==\u001b[0m\u001b[0;34m\"\"\u001b[0m\u001b[0;34m:\u001b[0m\u001b[0;34m\u001b[0m\u001b[0;34m\u001b[0m\u001b[0m\n\u001b[0m\u001b[1;32m      5\u001b[0m       \u001b[0mb\u001b[0m\u001b[0;34m=\u001b[0m\u001b[0;36m0\u001b[0m\u001b[0;34m\u001b[0m\u001b[0;34m\u001b[0m\u001b[0m\n\u001b[1;32m      6\u001b[0m     \u001b[0;32mreturn\u001b[0m \u001b[0mb\u001b[0m\u001b[0;34m\u001b[0m\u001b[0;34m\u001b[0m\u001b[0m\n",
            "\u001b[0;31mUnboundLocalError\u001b[0m: local variable 'b' referenced before assignment"
          ]
        }
      ]
    },
    {
      "cell_type": "markdown",
      "metadata": {
        "id": "Y0401iyaDgJ5",
        "colab_type": "text"
      },
      "source": [
        "### Cas récursif\n",
        "\n",
        "La représentation en binaire est obtenue en ajoutant devant la représétation en bianire courante le reste de la division entière par 2 du nombre à convertir.\n",
        "\n"
      ]
    },
    {
      "cell_type": "code",
      "metadata": {
        "id": "gCJN4p8MKP30",
        "colab_type": "code",
        "colab": {}
      },
      "source": [
        "def decimal_2_binary(d, b=\"\"):\n",
        "  '''Convert number d who is a positive integer in string b who is its binary representation'''\n",
        "\n",
        "  # Le paramètre d n'est pas un entier \n",
        "  # Ecrire votre code ici\n",
        "\n",
        "  # Le paramètre d est positif ou nul\n",
        "  # Ecrire votre code ici\n",
        "\n",
        "  # si le nombre à convertir est égal à 0:\n",
        "    ???\n",
        "\n",
        "    # si b est une chaine vide: b=0\n",
        "    ???\n",
        "\n",
        "    return ?\n",
        "  \n",
        "  return decimal_2_binary(???, ???)\n",
        "\n",
        "print(decimal_2_binary(0))"
      ],
      "execution_count": 32,
      "outputs": []
    }
  ]
}